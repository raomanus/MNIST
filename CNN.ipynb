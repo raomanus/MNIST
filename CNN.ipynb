{
 "cells": [
  {
   "cell_type": "code",
   "execution_count": 1,
   "metadata": {},
   "outputs": [
    {
     "name": "stderr",
     "output_type": "stream",
     "text": [
      "c:\\users\\manu\\appdata\\local\\programs\\python\\python36\\lib\\site-packages\\h5py\\__init__.py:36: FutureWarning: Conversion of the second argument of issubdtype from `float` to `np.floating` is deprecated. In future, it will be treated as `np.float64 == np.dtype(float).type`.\n",
      "  from ._conv import register_converters as _register_converters\n",
      "Using TensorFlow backend.\n"
     ]
    }
   ],
   "source": [
    "import pandas as pd\n",
    "import numpy as np\n",
    "import matplotlib.pyplot as plt\n",
    "import seaborn as sns\n",
    "\n",
    "from sklearn.model_selection import train_test_split\n",
    "from keras.utils.np_utils import to_categorical\n",
    "from keras.models import Sequential\n",
    "from keras.layers import Dense, Conv2D, MaxPool2D, Flatten, Dropout\n",
    "from keras.optimizers import RMSprop"
   ]
  },
  {
   "cell_type": "code",
   "execution_count": 2,
   "metadata": {
    "collapsed": true
   },
   "outputs": [],
   "source": [
    "# Read the training data\n",
    "train_df = pd.read_csv('train.csv')"
   ]
  },
  {
   "cell_type": "code",
   "execution_count": 3,
   "metadata": {},
   "outputs": [
    {
     "name": "stdout",
     "output_type": "stream",
     "text": [
      "<class 'pandas.core.frame.DataFrame'>\n",
      "RangeIndex: 42000 entries, 0 to 41999\n",
      "Columns: 785 entries, label to pixel783\n",
      "dtypes: int64(785)\n",
      "memory usage: 251.5 MB\n"
     ]
    }
   ],
   "source": [
    "train_df.info()"
   ]
  },
  {
   "cell_type": "code",
   "execution_count": 4,
   "metadata": {
    "collapsed": true
   },
   "outputs": [],
   "source": [
    "# Seperate the features and the labels\n",
    "Y = train_df['label']\n",
    "X = train_df.drop(columns='label')"
   ]
  },
  {
   "cell_type": "code",
   "execution_count": 15,
   "metadata": {},
   "outputs": [
    {
     "name": "stdout",
     "output_type": "stream",
     "text": [
      "[0.         0.99607843 0.99215686 0.07058824 0.33333333 0.98823529\n",
      " 0.6745098  0.96862745 0.63137255 0.79607843 0.81960784 0.95686275\n",
      " 0.04313725 0.84313725 0.86666667 0.12941176 0.85098039 0.5372549\n",
      " 0.90196078 0.16862745 0.14509804 0.0627451  0.25882353 1.\n",
      " 0.77647059 0.8627451  0.94509804 0.05098039 0.25098039 0.53333333\n",
      " 0.17647059 0.31372549 0.18823529 0.29019608 0.69803922 0.18431373\n",
      " 0.98431373 0.90588235 0.77254902 0.4627451  0.88235294 0.14117647\n",
      " 0.14901961 0.41568627 0.60392157 0.36470588 0.59607843 0.28627451\n",
      " 0.9254902  0.01960784 0.56862745 0.03921569 0.11372549 0.76078431\n",
      " 0.96470588 0.10980392 0.12156863 0.43921569 0.00784314 0.09019608\n",
      " 0.74509804 0.54901961 0.66666667 0.35294118 0.21176471 0.02352941\n",
      " 0.82352941 0.39607843 0.48235294 0.98039216 0.91764706 0.08235294\n",
      " 0.65882353 0.97254902 0.32941176 0.10196078 0.50588235 0.81568627\n",
      " 0.01568627 0.13333333 0.54117647 0.69019608 0.51372549 0.16078431\n",
      " 0.91372549 0.54509804 0.74901961 0.92941176 0.6        0.27058824\n",
      " 0.3254902  0.90980392 0.34509804 0.81176471 0.95294118 0.28235294\n",
      " 0.1372549  0.18039216 0.56078431 0.67843137 0.94117647 0.09411765\n",
      " 0.59215686 0.21568627 0.09803922 0.2627451  0.03529412 0.32156863\n",
      " 0.50196078 0.49411765 0.08627451 0.78039216 0.07843137 0.82745098\n",
      " 0.15294118 0.62352941 0.0745098  0.43137255 0.69411765 0.5254902\n",
      " 0.70588235 0.97647059 0.30588235 0.36862745 0.45490196 0.68235294\n",
      " 0.16470588 0.58823529 0.80392157 0.96078431 0.19607843 0.24313725\n",
      " 0.88627451 0.03137255 0.2        0.89803922 0.22352941 0.37647059\n",
      " 0.62745098 0.60784314 0.44705882 0.40784314 0.38039216 0.8\n",
      " 0.1254902  0.39215686 0.52156863 0.04705882 0.89019608 0.49019608\n",
      " 0.87843137 0.22745098 0.85490196 0.4        0.63529412 0.35686275\n",
      " 0.71764706 0.42352941 0.00392157 0.40392157 0.29803922 0.27843137\n",
      " 0.44313725 0.21960784 0.58431373 0.92156863 0.55294118 0.89411765\n",
      " 0.72156863 0.49803922 0.76470588 0.84705882 0.67058824 0.56470588\n",
      " 0.01176471 0.37254902 0.11764706 0.80784314 0.34901961 0.45882353\n",
      " 0.43529412 0.17254902 0.61568627 0.87058824 0.78823529 0.71372549\n",
      " 0.61960784 0.47058824 0.64313725 0.26666667 0.6627451  0.73333333\n",
      " 0.02745098 0.9372549  0.55686275 0.24705882 0.05882353 0.23529412\n",
      " 0.50980392 0.7254902  0.58039216 0.76862745 0.51764706 0.85882353\n",
      " 0.20392157 0.15686275 0.38823529 0.61176471 0.3372549  0.74117647\n",
      " 0.83921569 0.2745098  0.10588235 0.30196078 0.83137255 0.7372549\n",
      " 0.06666667 0.34117647 0.75686275 0.93333333 0.68627451 0.52941176\n",
      " 0.42745098 0.46666667 0.31764706 0.79215686 0.30980392 0.25490196\n",
      " 0.41960784 0.72941176 0.4745098  0.57647059 0.8745098  0.23137255\n",
      " 0.63921569 0.23921569 0.65098039 0.83529412 0.36078431 0.70196078\n",
      " 0.70980392 0.64705882 0.48627451 0.19215686 0.05490196 0.57254902\n",
      " 0.41176471 0.94901961 0.45098039 0.38431373 0.65490196 0.47843137\n",
      " 0.20784314 0.29411765 0.78431373 0.75294118]\n"
     ]
    }
   ],
   "source": [
    "# Normalize the feature values\n",
    "X = X/255"
   ]
  },
  {
   "cell_type": "code",
   "execution_count": 16,
   "metadata": {
    "collapsed": true
   },
   "outputs": [],
   "source": [
    "# Split dataset into test and train data\n",
    "X_train, X_test, Y_train, Y_test = train_test_split(X, Y, test_size=0.2, random_state=4)"
   ]
  },
  {
   "cell_type": "code",
   "execution_count": 17,
   "metadata": {
    "collapsed": true
   },
   "outputs": [],
   "source": [
    "# Each image is represented as a 784 feature length vector. Reshape it to a 2D matrix of size 28*28\n",
    "X_train = X_train.values.reshape(-1, 28, 28, 1)\n",
    "X_test = X_test.values.reshape(-1, 28, 28, 1)"
   ]
  },
  {
   "cell_type": "code",
   "execution_count": 18,
   "metadata": {
    "collapsed": true
   },
   "outputs": [],
   "source": [
    "# Convert each of the digit values into a one-hot vector representation.\n",
    "Y_train = to_categorical(Y_train, num_classes=10)\n",
    "Y_test = to_categorical(Y_test, num_classes=10)"
   ]
  },
  {
   "cell_type": "code",
   "execution_count": 30,
   "metadata": {
    "collapsed": true
   },
   "outputs": [],
   "source": [
    "# Initialize the CNN\n",
    "model = Sequential()\n",
    "# Add 2 convolutional layers and maxPool the output\n",
    "model.add(Conv2D(filters=32, kernel_size=(5,5), padding=\"same\", activation='relu', input_shape=(28,28,1), name=\"Conv1\"))\n",
    "model.add(Conv2D(filters=32, kernel_size=(5,5), padding=\"same\", activation='relu', name=\"Conv2\"))\n",
    "model.add(MaxPool2D(pool_size=(2,2), name=\"Pool1\"))\n",
    "# Adding dropout to prevent overfitting\n",
    "model.add(Dropout(0.25))\n",
    "\n",
    "# Second layer of convolutions with dropout\n",
    "model.add(Conv2D(filters = 64, kernel_size = (3,3),padding = 'same', activation ='relu', name=\"Conv3\"))\n",
    "model.add(Conv2D(filters = 64, kernel_size = (3,3),padding = 'same', activation ='relu', name=\"Conv4\"))\n",
    "model.add(MaxPool2D(pool_size=(2,2), strides=(2,2), name=\"Pool2\"))\n",
    "model.add(Dropout(0.25))\n",
    "\n",
    "# Final dense activation layers\n",
    "model.add(Flatten())\n",
    "model.add(Dense(256, activation = \"relu\", name=\"DLayer1\"))\n",
    "model.add(Dropout(0.5))\n",
    "model.add(Dense(10, activation = \"softmax\", name=\"DLayer2\"))"
   ]
  },
  {
   "cell_type": "code",
   "execution_count": 31,
   "metadata": {
    "collapsed": true
   },
   "outputs": [],
   "source": [
    "# Intialize the optimizer and compile the model\n",
    "rmsOpt = RMSprop()\n",
    "model.compile(optimizer=rmsOpt, loss='categorical_crossentropy', metrics=['accuracy'])\n",
    "g = plt.imshow(X_train[3][:,:,0])"
   ]
  },
  {
   "cell_type": "code",
   "execution_count": 33,
   "metadata": {},
   "outputs": [
    {
     "name": "stdout",
     "output_type": "stream",
     "text": [
      "Train on 33600 samples, validate on 8400 samples\n",
      "Epoch 1/30\n",
      "33600/33600 [==============================] - 122s 4ms/step - loss: 0.0733 - acc: 0.9792 - val_loss: 0.0557 - val_acc: 0.9843\n",
      "Epoch 2/30\n",
      "33600/33600 [==============================] - 127s 4ms/step - loss: 0.0557 - acc: 0.9833 - val_loss: 0.0369 - val_acc: 0.9880\n",
      "Epoch 3/30\n",
      "33600/33600 [==============================] - 129s 4ms/step - loss: 0.0444 - acc: 0.9865 - val_loss: 0.0384 - val_acc: 0.9895\n",
      "Epoch 4/30\n",
      "33600/33600 [==============================] - 127s 4ms/step - loss: 0.0406 - acc: 0.9880 - val_loss: 0.0381 - val_acc: 0.9887\n",
      "Epoch 5/30\n",
      "33600/33600 [==============================] - 127s 4ms/step - loss: 0.0355 - acc: 0.9892 - val_loss: 0.0426 - val_acc: 0.9886\n",
      "Epoch 6/30\n",
      "33600/33600 [==============================] - 131s 4ms/step - loss: 0.0345 - acc: 0.9897 - val_loss: 0.0390 - val_acc: 0.9890\n",
      "Epoch 7/30\n",
      "33600/33600 [==============================] - 131s 4ms/step - loss: 0.0332 - acc: 0.9906 - val_loss: 0.0458 - val_acc: 0.9885\n",
      "Epoch 8/30\n",
      "33600/33600 [==============================] - 128s 4ms/step - loss: 0.0322 - acc: 0.9908 - val_loss: 0.0371 - val_acc: 0.9907\n",
      "Epoch 9/30\n",
      "33600/33600 [==============================] - 128s 4ms/step - loss: 0.0320 - acc: 0.9909 - val_loss: 0.0550 - val_acc: 0.9881\n",
      "Epoch 10/30\n",
      "33600/33600 [==============================] - 129s 4ms/step - loss: 0.0291 - acc: 0.9919 - val_loss: 0.0349 - val_acc: 0.9918\n",
      "Epoch 11/30\n",
      "33600/33600 [==============================] - 130s 4ms/step - loss: 0.0303 - acc: 0.9914 - val_loss: 0.0510 - val_acc: 0.9888\n",
      "Epoch 12/30\n",
      "33600/33600 [==============================] - 131s 4ms/step - loss: 0.0312 - acc: 0.9914 - val_loss: 0.0512 - val_acc: 0.9882\n",
      "Epoch 13/30\n",
      "33600/33600 [==============================] - 128s 4ms/step - loss: 0.0286 - acc: 0.9914 - val_loss: 0.0364 - val_acc: 0.9902\n",
      "Epoch 14/30\n",
      "33600/33600 [==============================] - 128s 4ms/step - loss: 0.0294 - acc: 0.9919 - val_loss: 0.0519 - val_acc: 0.9904\n",
      "Epoch 15/30\n",
      "33600/33600 [==============================] - 128s 4ms/step - loss: 0.0276 - acc: 0.9924 - val_loss: 0.0546 - val_acc: 0.9888\n",
      "Epoch 16/30\n",
      "33600/33600 [==============================] - 128s 4ms/step - loss: 0.0320 - acc: 0.9918 - val_loss: 0.0342 - val_acc: 0.9919\n",
      "Epoch 17/30\n",
      "33600/33600 [==============================] - 132s 4ms/step - loss: 0.0309 - acc: 0.9915 - val_loss: 0.0507 - val_acc: 0.9900\n",
      "Epoch 18/30\n",
      "33600/33600 [==============================] - 130s 4ms/step - loss: 0.0304 - acc: 0.9922 - val_loss: 0.0593 - val_acc: 0.9882\n",
      "Epoch 19/30\n",
      "33600/33600 [==============================] - 129s 4ms/step - loss: 0.0296 - acc: 0.9918 - val_loss: 0.0481 - val_acc: 0.9904\n",
      "Epoch 20/30\n",
      "33600/33600 [==============================] - 129s 4ms/step - loss: 0.0352 - acc: 0.9919 - val_loss: 0.0412 - val_acc: 0.9912\n",
      "Epoch 21/30\n",
      "33600/33600 [==============================] - 129s 4ms/step - loss: 0.0322 - acc: 0.9924 - val_loss: 0.0390 - val_acc: 0.9910\n",
      "Epoch 22/30\n",
      "33600/33600 [==============================] - 135s 4ms/step - loss: 0.0303 - acc: 0.9924 - val_loss: 0.0369 - val_acc: 0.9912\n",
      "Epoch 23/30\n",
      "33600/33600 [==============================] - 174s 5ms/step - loss: 0.0326 - acc: 0.9922 - val_loss: 0.0449 - val_acc: 0.9893\n",
      "Epoch 24/30\n",
      "33600/33600 [==============================] - 206s 6ms/step - loss: 0.0322 - acc: 0.9923 - val_loss: 0.0393 - val_acc: 0.9913\n",
      "Epoch 25/30\n",
      "33600/33600 [==============================] - 127s 4ms/step - loss: 0.0321 - acc: 0.9922 - val_loss: 0.0411 - val_acc: 0.9889\n",
      "Epoch 26/30\n",
      "33600/33600 [==============================] - 126s 4ms/step - loss: 0.0351 - acc: 0.9921 - val_loss: 0.0580 - val_acc: 0.9906\n",
      "Epoch 27/30\n",
      "33600/33600 [==============================] - 128s 4ms/step - loss: 0.0368 - acc: 0.9916 - val_loss: 0.0408 - val_acc: 0.9911\n",
      "Epoch 28/30\n",
      "33600/33600 [==============================] - 133s 4ms/step - loss: 0.0371 - acc: 0.9919 - val_loss: 0.0385 - val_acc: 0.9898\n",
      "Epoch 29/30\n",
      "33600/33600 [==============================] - 172s 5ms/step - loss: 0.0354 - acc: 0.9922 - val_loss: 0.0372 - val_acc: 0.9913\n",
      "Epoch 30/30\n",
      "33600/33600 [==============================] - 145s 4ms/step - loss: 0.0339 - acc: 0.9920 - val_loss: 0.0375 - val_acc: 0.9919\n"
     ]
    },
    {
     "data": {
      "text/plain": [
       "<keras.callbacks.History at 0x18fafdc3048>"
      ]
     },
     "execution_count": 33,
     "metadata": {},
     "output_type": "execute_result"
    }
   ],
   "source": [
    "# Run the model on the training and validation datasets\n",
    "epochs = 30\n",
    "batch_size = 86\n",
    "\n",
    "model.fit(x=X_train, y=Y_train, epochs=epochs, batch_size=batch_size, verbose=1, validation_data=[X_test, Y_test])"
   ]
  }
 ],
 "metadata": {
  "kernelspec": {
   "display_name": "Python 3",
   "language": "python",
   "name": "python3"
  },
  "language_info": {
   "codemirror_mode": {
    "name": "ipython",
    "version": 3
   },
   "file_extension": ".py",
   "mimetype": "text/x-python",
   "name": "python",
   "nbconvert_exporter": "python",
   "pygments_lexer": "ipython3",
   "version": "3.6.5"
  }
 },
 "nbformat": 4,
 "nbformat_minor": 2
}
